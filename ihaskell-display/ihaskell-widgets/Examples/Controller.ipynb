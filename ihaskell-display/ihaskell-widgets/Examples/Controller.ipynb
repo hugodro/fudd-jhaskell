{
 "cells": [
  {
   "cell_type": "markdown",
   "id": "6513368f-ebd6-4c00-b69b-7004c3189fc6",
   "metadata": {},
   "source": [
    "## Controller widgets\n",
    "\n",
    "I'm sorry, but this widget is still Work In Progress"
   ]
  },
  {
   "cell_type": "code",
   "execution_count": null,
   "id": "1db1ebee-6896-4a92-9a9c-4d0c0e2fef34",
   "metadata": {},
   "outputs": [],
   "source": [
    "{-# LANGUAGE OverloadedStrings #-}\n",
    "controller <- mkController\n",
    "setField controller Index 0\n",
    "controller"
   ]
  },
  {
   "cell_type": "code",
   "execution_count": null,
   "id": "463d9488-8941-4e4a-aa47-83ba2f879368",
   "metadata": {},
   "outputs": [],
   "source": [
    "getField controller Connected\n",
    "getField controller Name\n",
    "getField controller Timestamp\n",
    "getField controller Mapping\n",
    "getField controller Buttons"
   ]
  }
 ],
 "metadata": {
  "kernelspec": {
   "display_name": "Haskell",
   "language": "haskell",
   "name": "haskell"
  },
  "language_info": {
   "codemirror_mode": "ihaskell",
   "file_extension": ".hs",
   "mimetype": "text/x-haskell",
   "name": "haskell",
   "pygments_lexer": "Haskell",
   "version": "8.10.4"
  }
 },
 "nbformat": 4,
 "nbformat_minor": 5
}
