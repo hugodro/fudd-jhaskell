{
 "cells": [
  {
   "cell_type": "code",
   "execution_count": 30,
   "id": "c6eaf03d-cf32-448f-949f-1dcafeed8e56",
   "metadata": {},
   "outputs": [
    {
     "data": {
      "text/html": [
       "<style>/* Styles used for the Hoogle display in the pager */\n",
       ".hoogle-doc {\n",
       "display: block;\n",
       "padding-bottom: 1.3em;\n",
       "padding-left: 0.4em;\n",
       "}\n",
       ".hoogle-code {\n",
       "display: block;\n",
       "font-family: monospace;\n",
       "white-space: pre;\n",
       "}\n",
       ".hoogle-text {\n",
       "display: block;\n",
       "}\n",
       ".hoogle-name {\n",
       "color: green;\n",
       "font-weight: bold;\n",
       "}\n",
       ".hoogle-head {\n",
       "font-weight: bold;\n",
       "}\n",
       ".hoogle-sub {\n",
       "display: block;\n",
       "margin-left: 0.4em;\n",
       "}\n",
       ".hoogle-package {\n",
       "font-weight: bold;\n",
       "font-style: italic;\n",
       "}\n",
       ".hoogle-module {\n",
       "font-weight: bold;\n",
       "}\n",
       ".hoogle-class {\n",
       "font-weight: bold;\n",
       "}\n",
       ".get-type {\n",
       "color: green;\n",
       "font-weight: bold;\n",
       "font-family: monospace;\n",
       "display: block;\n",
       "white-space: pre-wrap;\n",
       "}\n",
       ".show-type {\n",
       "color: green;\n",
       "font-weight: bold;\n",
       "font-family: monospace;\n",
       "margin-left: 1em;\n",
       "}\n",
       ".mono {\n",
       "font-family: monospace;\n",
       "display: block;\n",
       "}\n",
       ".err-msg {\n",
       "color: red;\n",
       "font-style: italic;\n",
       "font-family: monospace;\n",
       "white-space: pre;\n",
       "display: block;\n",
       "}\n",
       "#unshowable {\n",
       "color: red;\n",
       "font-weight: bold;\n",
       "}\n",
       ".err-msg.in.collapse {\n",
       "padding-top: 0.7em;\n",
       "}\n",
       ".highlight-code {\n",
       "white-space: pre;\n",
       "font-family: monospace;\n",
       "}\n",
       ".suggestion-warning { \n",
       "font-weight: bold;\n",
       "color: rgb(200, 130, 0);\n",
       "}\n",
       ".suggestion-error { \n",
       "font-weight: bold;\n",
       "color: red;\n",
       "}\n",
       ".suggestion-name {\n",
       "font-weight: bold;\n",
       "}\n",
       "</style><div class=\"suggestion-name\" style=\"clear:both;\">Unused LANGUAGE pragma</div><div class=\"suggestion-row\" style=\"float: left;\"><div class=\"suggestion-warning\">Found:</div><div class=\"highlight-code\" id=\"haskell\">{-# LANGUAGE OverloadedStrings #-}</div></div><div class=\"suggestion-row\" style=\"float: left;\"><div class=\"suggestion-warning\">Why Not:</div><div class=\"highlight-code\" id=\"haskell\"></div></div>"
      ],
      "text/plain": [
       "Line 1: Unused LANGUAGE pragma\n",
       "Found:\n",
       "{-# LANGUAGE OverloadedStrings #-}\n",
       "Why not:"
      ]
     },
     "metadata": {},
     "output_type": "display_data"
    }
   ],
   "source": [
    "{-# LANGUAGE OverloadedStrings #-}\n",
    "import Data.Text\n",
    "import Text.Printf\n",
    "import IHaskell.Display.Widgets"
   ]
  },
  {
   "cell_type": "markdown",
   "id": "alert-arrangement",
   "metadata": {},
   "source": [
    "# The Picker widgets\n",
    "\n",
    "Here we have two widgets that allow you input of special inputs, like dates or colors. They are the `ColorPicker` and `DatePicker`. These widgets work on almost every modern web browser.\n",
    "\n",
    "## `ColorPicker`\n",
    "\n",
    "Is a widget that displays a color wheel and allows you to select a color, you can pick it with your mouse or write its HTML name/code it in its text box.\n",
    "\n",
    "We can see and set what color is selected using the field `StringValue`."
   ]
  },
  {
   "cell_type": "code",
   "execution_count": 15,
   "id": "8546ec77-be19-44f3-987e-91eafd890a5a",
   "metadata": {},
   "outputs": [
    {
     "data": {
      "application/vnd.jupyter.widget-view+json": {
       "model_id": "79b44a92-0e84-4efb-9b37-60fb8e7cb579",
       "version_major": 2,
       "version_minor": 0
      }
     },
     "metadata": {},
     "output_type": "display_data"
    }
   ],
   "source": [
    "-- Creating a color widget\n",
    "colorPicker <- mkColorPicker\n",
    "setField colorPicker StringValue \"#fabada\"\n",
    "colorPicker"
   ]
  },
  {
   "cell_type": "markdown",
   "id": "handled-barcelona",
   "metadata": {},
   "source": [
    "We can display a condensed color picker, without the text box, setting `Concise` to `True`."
   ]
  },
  {
   "cell_type": "code",
   "execution_count": 16,
   "id": "phantom-cricket",
   "metadata": {},
   "outputs": [],
   "source": [
    "setField colorPicker Concise True"
   ]
  },
  {
   "cell_type": "markdown",
   "id": "technical-forward",
   "metadata": {},
   "source": [
    "Let's make a button that changes color to a color chosen by the user!"
   ]
  },
  {
   "cell_type": "code",
   "execution_count": 21,
   "id": "continent-given",
   "metadata": {},
   "outputs": [
    {
     "data": {
      "application/vnd.jupyter.widget-view+json": {
       "model_id": "79b44a92-0e84-4efb-9b37-60fb8e7cb579",
       "version_major": 2,
       "version_minor": 0
      }
     },
     "metadata": {},
     "output_type": "display_data"
    },
    {
     "data": {
      "application/vnd.jupyter.widget-view+json": {
       "model_id": "005e2395-679b-4311-90bb-f793e92b2769",
       "version_major": 2,
       "version_minor": 0
      }
     },
     "metadata": {},
     "output_type": "display_data"
    }
   ],
   "source": [
    "-- Creating the button and style\n",
    "b <- mkButton\n",
    "stl <- mkButtonStyle\n",
    "setField b Style $ StyleWidget stl\n",
    "\n",
    "-- Creating the handler\n",
    "colorHandler :: IO ()\n",
    "colorHandler = getField colorPicker StringValue >>= setField stl ButtonColor . Just . unpack\n",
    "-- calling the handler to initialize the button\n",
    "colorHandler\n",
    "\n",
    "-- Setting color picker attributes\n",
    "setField colorPicker Concise False\n",
    "setField colorPicker ChangeHandler colorHandler\n",
    "\n",
    "-- Displaying the widgets\n",
    "colorPicker\n",
    "b"
   ]
  },
  {
   "cell_type": "markdown",
   "id": "63bd4861-8db4-4782-a74f-dfc67183ae02",
   "metadata": {},
   "source": [
    "### The `DatePicker` widget\n",
    "\n",
    "The Date Picker displays a calendar and allows you to display a date. It uses the data type `Date`. The first number is the year, then the month, then the day."
   ]
  },
  {
   "cell_type": "code",
   "execution_count": 24,
   "id": "fe024e0b-7b08-4fc9-ba22-1e706d31b4b8",
   "metadata": {},
   "outputs": [
    {
     "data": {
      "application/vnd.jupyter.widget-view+json": {
       "model_id": "29a2ae24-caf1-44a0-8275-b60fb4607134",
       "version_major": 2,
       "version_minor": 0
      }
     },
     "metadata": {},
     "output_type": "display_data"
    },
    {
     "data": {},
     "metadata": {},
     "output_type": "display_data"
    },
    {
     "data": {},
     "metadata": {},
     "output_type": "display_data"
    }
   ],
   "source": [
    "datePicker <- mkDatePicker\n",
    "datePicker"
   ]
  },
  {
   "cell_type": "markdown",
   "id": "caroline-aberdeen",
   "metadata": {},
   "source": [
    "We can get the selected date getting the `DateValue` field. And we can extract the year, month and day using pattern matching. Be careful, as the date can also be `NullDate`, the following cell could fail if you didn't select a date value."
   ]
  },
  {
   "cell_type": "code",
   "execution_count": 32,
   "id": "purple-specification",
   "metadata": {},
   "outputs": [
    {
     "data": {
      "text/plain": [
       "Today's date is 19/8/2021"
      ]
     },
     "metadata": {},
     "output_type": "display_data"
    }
   ],
   "source": [
    "(Date y m d) <- getField datePicker DateValue\n",
    "printf \"Today's date is %d/%d/%d\" d m y"
   ]
  },
  {
   "cell_type": "markdown",
   "id": "flexible-democracy",
   "metadata": {},
   "source": [
    "If we set the Date to `NullDate`, then the widget appears empty"
   ]
  },
  {
   "cell_type": "code",
   "execution_count": 26,
   "id": "5789b89d-f0d9-47b8-888f-54d30f4b2a27",
   "metadata": {},
   "outputs": [],
   "source": [
    "setField datePicker DateValue NullDate"
   ]
  }
 ],
 "metadata": {
  "kernelspec": {
   "display_name": "Haskell",
   "language": "haskell",
   "name": "haskell"
  },
  "language_info": {
   "codemirror_mode": "ihaskell",
   "file_extension": ".hs",
   "mimetype": "text/x-haskell",
   "name": "haskell",
   "pygments_lexer": "Haskell",
   "version": "8.10.4"
  }
 },
 "nbformat": 4,
 "nbformat_minor": 5
}
