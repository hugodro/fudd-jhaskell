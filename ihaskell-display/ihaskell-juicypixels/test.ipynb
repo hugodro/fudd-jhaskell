{
 "cells": [
  {
   "cell_type": "markdown",
   "metadata": {
    "hidden": false
   },
   "source": [
    "# Notebook test\n",
    "\n",
    "This IHaskell noteook should just test, whether IHaskell and JuicyPixels are properly installed and working.\n",
    "\n",
    "Just click in the box below and click on the \"Run\" command in the above menu.  "
   ]
  },
  {
   "cell_type": "code",
   "execution_count": null,
   "metadata": {
    "collapsed": false,
    "hidden": false,
    "jupyter": {
     "outputs_hidden": false
    }
   },
   "outputs": [],
   "source": [
    "{-# LANGUAGE TypeSynonymInstances, FlexibleInstances  #-}\n",
    "\n",
    "import IHaskell.Display.Juicypixels\n",
    "import Codec.Picture\n",
    "   \n",
    "myImage = generateImage pixelRenderer 250 300\n",
    "    where pixelRenderer x y = PixelRGB8 (fromIntegral x) (fromIntegral y) 128\n",
    "    \n",
    "myImage    "
   ]
  }
 ],
 "metadata": {
  "kernelspec": {
   "display_name": "Haskell",
   "language": "haskell",
   "name": "haskell"
  },
  "language_info": {
   "codemirror_mode": "ihaskell",
   "file_extension": ".hs",
   "mimetype": "text/x-haskell",
   "name": "haskell",
   "pygments_lexer": "Haskell",
   "version": "8.10.4"
  }
 },
 "nbformat": 4,
 "nbformat_minor": 4
}
